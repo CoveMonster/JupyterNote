{
 "cells": [
  {
   "cell_type": "code",
   "execution_count": 6,
   "metadata": {},
   "outputs": [],
   "source": [
    "from numpy import * "
   ]
  },
  {
   "cell_type": "code",
   "execution_count": 7,
   "metadata": {},
   "outputs": [],
   "source": [
    "def loadData():\n",
    "    dataMat = []\n",
    "    labelMat = []\n",
    "    file = open('data.txt')\n",
    "    for line in file.readlines():\n",
    "        arr = line.strip().split('\\t')\n",
    "        #print(arr)\n",
    "        dataMat.append([1, float(arr[0]), float(arr[1])])\n",
    "        labelMat.append(int(arr[2]))\n",
    "    #print(dataMat,'\\n',labelMat)\n",
    "    return dataMat, labelMat\n",
    "    \n",
    "# loadData()"
   ]
  },
  {
   "cell_type": "code",
   "execution_count": 8,
   "metadata": {},
   "outputs": [],
   "source": [
    "def sigmoid(inX):\n",
    "    return 1.0/(1+exp(-inX))"
   ]
  },
  {
   "cell_type": "code",
   "execution_count": 9,
   "metadata": {},
   "outputs": [
    {
     "name": "stdout",
     "output_type": "stream",
     "text": [
      "[[0.57128563]\n",
      " [3.11868207]\n",
      " [2.87133631]]\n"
     ]
    }
   ],
   "source": [
    "# 梯度计算\n",
    "# dataMatIn是2维Numpy数组，每列对应不同特征，每行是一个训练样本\n",
    "# 现在里面有X0，X1,X2的100*3的矩阵\n",
    "def gradAscent(dataMatIn, classLabels):\n",
    "    dataMatrix = mat(dataMatIn)             #转化为Numpy矩阵\n",
    "    labelMat = mat(classLabels).transpose() #由行向量转化为列向量,矩阵的转置\n",
    "    m,n = shape(dataMatrix)\n",
    "    # 步长\n",
    "    alpha = 0.001\n",
    "    # 迭代次数\n",
    "    maxCycles = 500\n",
    "    weights = ones((n,1))\n",
    "    for k in range(maxCycles):              #heavy on matrix operations\n",
    "        # 每一个样本乘上一个回归系数\n",
    "        h = sigmoid(dataMatrix*weights)     #矩阵相乘，h是一个列向量 1*100\n",
    "        error = (labelMat - h)              #vector subtraction\n",
    "        weights = weights + alpha * dataMatrix.transpose()* error #按差值方向调整回归系数\n",
    "    return weights\n",
    "\n",
    "dataMatIn, classLabels = loadData()\n",
    "print(gradAscent(dataMatIn, classLabels))\n"
   ]
  },
  {
   "cell_type": "code",
   "execution_count": null,
   "metadata": {
    "scrolled": false
   },
   "outputs": [],
   "source": [
    "# import matplotlib as plt\n",
    "import matplotlib.pyplot as plt\n",
    "#将分类给画出来，画出最佳的拟合直线  \n",
    "def plotBestFit(weights):  \n",
    "    \"\"\" \n",
    "    :param weights: 最佳回归系数数组 \n",
    "    :return: \n",
    "    \"\"\"  \n",
    "    dataMat, labelMat = loadData()       #加载数据集，返回数据集合分类  \n",
    "    dataArr = array(dataMat)        #将数据集数组化  \n",
    "    dataShape = shape(dataArr)      #data的形状  \n",
    "    print(\"data的形状：\", dataShape)  \n",
    "    n = dataShape[0]        #形状的第一个是行数（即数据集的个数），第二个是列数（即数据集的特征）  \n",
    "    xcord1 = []     #分类为1的点  \n",
    "    ycord1 = []  \n",
    "    xcord0 = []     #分类为0的点  \n",
    "    ycord0 = []  \n",
    "    for i in range(n):  \n",
    "        if int(labelMat[i]) == 1:       #如果分类为1，添加到1分类的点集，否者返回到0分类的点集  \n",
    "            xcord1.append(dataArr[i, 1])        #这个dataArr有3列，其中第0列为1，第1,2列为x，y  \n",
    "            ycord1.append(dataArr[i, 2])  \n",
    "        else:  \n",
    "            xcord0.append(dataArr[i, 1])  \n",
    "            ycord0.append(dataArr[i, 2])  \n",
    "    fig = plt.figure()      #figure()函数创建一个新的图  \n",
    "    ax = fig.add_subplot(111)       #add_subplot()函数在一张figure里面生成多张子图参数111，表示1行1列第1个位置  \n",
    "    ax.scatter(xcord1, ycord1, s=100, c='red', marker='s')       #散点图  \n",
    "    ax.scatter(xcord0, ycord0, s=100, c='green')  \n",
    "    # 直线 x 的范围  \n",
    "    x = arange(-3.0, 3.0, 0.1)      # (start, end, step)可以调step执行起来，看看图  \n",
    "    # 画出直线，weights[0]*1.0+weights[1]*x+weights[2]*y=0  \n",
    "    # 之前计算时对原始数据做了拓展，将两维拓展为三维，第一维全部设置为1.0，实际他是一个 y=ax+b, b常量  \n",
    "    y = (-weights[0]-weights[1]*x)/weights[2]  \n",
    "    ax.plot(x, y)       #画出直线  \n",
    "    plt.xlabel('x1')        #X轴标记为x1  \n",
    "    plt.ylabel('x0')        #Y轴标记为x0  \n",
    "    plt.show()  \n",
    "\n",
    "dataMatIn, classLabels = loadData()\n",
    "plotBestFit(gradAscent(dataMatIn, classLabels).getA())  #getA()将weights矩阵转换为数组，getA()函数与mat()函数的功能相反  \n",
    "\"\"\" \n",
    "如果是矩阵的话会报这样的错： \n",
    "\"have shapes {} and {}\".format(x.shape, y.shape)) \n",
    "ValueError: x and y must have same first dimension, but have shapes (60,) and (1, 60) \n",
    "为啥要用数组呢？因为 x = arange(-3.0, 3.0, 0.1)，len(x) = [3-(-3)]/0.1 = 60 \n",
    "而weights是矩阵的话，y = (-weights[0]-weights[1]*x)/weights[2]，len(y) = 1，有60个x，y只有一个，你这样都画不了线 \n",
    "而weights是数据的话，len(y) = 60 \n",
    "\"\"\"  "
   ]
  },
  {
   "cell_type": "code",
   "execution_count": null,
   "metadata": {},
   "outputs": [],
   "source": []
  }
 ],
 "metadata": {
  "kernelspec": {
   "display_name": "Python 3",
   "language": "python",
   "name": "python3"
  },
  "language_info": {
   "codemirror_mode": {
    "name": "ipython",
    "version": 3
   },
   "file_extension": ".py",
   "mimetype": "text/x-python",
   "name": "python",
   "nbconvert_exporter": "python",
   "pygments_lexer": "ipython3",
   "version": "3.7.3"
  }
 },
 "nbformat": 4,
 "nbformat_minor": 2
}
