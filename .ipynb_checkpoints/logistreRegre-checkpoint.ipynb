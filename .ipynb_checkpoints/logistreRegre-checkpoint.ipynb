{
 "cells": [
  {
   "cell_type": "code",
   "execution_count": null,
   "metadata": {},
   "outputs": [],
   "source": [
    "import pandas as pd\n",
    "import numpy "
   ]
  },
  {
   "cell_type": "code",
   "execution_count": 20,
   "metadata": {},
   "outputs": [],
   "source": [
    "def loadData():\n",
    "    dataMat = []\n",
    "    labelMat = []\n",
    "    file = open('data.txt')\n",
    "    for line in file.readlines():\n",
    "        arr = line.strip().split('\\t')\n",
    "        #print(arr)\n",
    "        dataMat.append([1, float(arr[0]), float(arr[1])])\n",
    "        labelMat.append(int(arr[2]))\n",
    "    #print(dataMat,'\\n',labelMat)\n",
    "    return dataMat, labelMat\n",
    "    \n",
    "# loadData()"
   ]
  },
  {
   "cell_type": "code",
   "execution_count": 22,
   "metadata": {},
   "outputs": [
    {
     "ename": "SyntaxError",
     "evalue": "invalid character in identifier (<ipython-input-22-05cdd5f561cb>, line 18)",
     "output_type": "error",
     "traceback": [
      "\u001b[1;36m  File \u001b[1;32m\"<ipython-input-22-05cdd5f561cb>\"\u001b[1;36m, line \u001b[1;32m18\u001b[0m\n\u001b[1;33m    # 这里dataMatrix.transpose()* error就是当前对应的梯度\u001b[0m\n\u001b[1;37m    ^\u001b[0m\n\u001b[1;31mSyntaxError\u001b[0m\u001b[1;31m:\u001b[0m invalid character in identifier\n"
     ]
    }
   ],
   "source": [
    "# 梯度计算\n",
    "# dataMatIn是2维Numpy数组，每列对应不同特征，每行是一个训练样本\n",
    "# 现在里面有X0，X1,X2的100*3的矩阵\n",
    "def gradAscent(dataMatIn, classLabels):\n",
    "    dataMatrix = mat(dataMatIn)             #转化为Numpy矩阵\n",
    "    labelMat = mat(classLabels).transpose() #由行向量转化为列向量,矩阵的转置\n",
    "    m,n = shape(dataMatrix)\n",
    "    # 步长\n",
    "    alpha = 0.001\n",
    "    # 迭代次数\n",
    "    maxCycles = 500\n",
    "    weights = ones((n,1))\n",
    "    for k in range(maxCycles):              #heavy on matrix operations\n",
    "        # 每一个样本乘上一个回归系数\n",
    "        h = sigmoid(dataMatrix*weights)     #矩阵相乘，h是一个列向量 1*100\n",
    "        error = (labelMat - h)              #vector subtraction\n",
    "        weights = weights + alpha * dataMatrix.transpose()* error #按差值方向调整回归系数\n",
    "        # 这里dataMatrix.transpose()* error就是当前对应的梯度\n",
    "    return weights\n",
    "dataMatIn, classLabels = loadData()\n",
    "gradAscent(dataMatIn, classLabels)"
   ]
  },
  {
   "cell_type": "code",
   "execution_count": 13,
   "metadata": {},
   "outputs": [
    {
     "name": "stdout",
     "output_type": "stream",
     "text": [
      "-10.5\n"
     ]
    }
   ],
   "source": [
    "print(float('-10.5'))"
   ]
  },
  {
   "cell_type": "code",
   "execution_count": null,
   "metadata": {},
   "outputs": [],
   "source": []
  },
  {
   "cell_type": "code",
   "execution_count": null,
   "metadata": {},
   "outputs": [],
   "source": []
  },
  {
   "cell_type": "code",
   "execution_count": null,
   "metadata": {},
   "outputs": [],
   "source": []
  },
  {
   "cell_type": "code",
   "execution_count": null,
   "metadata": {},
   "outputs": [],
   "source": []
  }
 ],
 "metadata": {
  "kernelspec": {
   "display_name": "Python 3",
   "language": "python",
   "name": "python3"
  },
  "language_info": {
   "codemirror_mode": {
    "name": "ipython",
    "version": 3
   },
   "file_extension": ".py",
   "mimetype": "text/x-python",
   "name": "python",
   "nbconvert_exporter": "python",
   "pygments_lexer": "ipython3",
   "version": "3.7.3"
  }
 },
 "nbformat": 4,
 "nbformat_minor": 2
}
