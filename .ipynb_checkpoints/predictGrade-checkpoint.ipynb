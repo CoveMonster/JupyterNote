{
 "cells": [
  {
   "cell_type": "code",
   "execution_count": 3,
   "metadata": {},
   "outputs": [],
   "source": [
    "from sklearn.linear_model import LogisticRegression\n",
    "from sklearn import model_selection \n",
    "from numpy import * \n",
    "import numpy as np\n",
    "import pandas as pd \n",
    "import operator\n",
    "from sklearn.preprocessing import normalize"
   ]
  },
  {
   "cell_type": "code",
   "execution_count": 10,
   "metadata": {},
   "outputs": [],
   "source": [
    "#read data\n",
    "def readData(filepath):\n",
    "    #q_table6 = pd.read_csv(filepath ,encoding = \"utf-8\",index_col=0)\n",
    "    #print(q_table6)\n",
    "    file = open(filepath)\n",
    "    count = 1\n",
    "    title = []\n",
    "    allDta = []\n",
    "    for data in file.readlines():\n",
    "        if count == 1:\n",
    "            title = data.strip()\n",
    "            count = 0\n",
    "        else :\n",
    "            newRow = []\n",
    "            Row = data.strip().split(',')\n",
    "            #print(Row)\n",
    "            for i in range(0, len(Row)):\n",
    "                if i == 0 or i ==1 or i ==  2 or i == 7 or i == 8:\n",
    "                    continue\n",
    "                else :\n",
    "                    newRow.append(Row[i])\n",
    "            allDta.append(newRow)\n",
    "    return title, allDta\n",
    "            \n",
    "        \n",
    "# 数据预处理   分开因自变量等\n",
    "def preData(data):\n",
    "    dataframe = pd.DataFrame(data)\n",
    "   #data_Norm_df = pd.DataFrame(normalize(dataframe, norm = 'l2'))\n",
    "    x,y = dataframe.iloc[:,0:-2],dataframe.iloc[:,-1]\n",
    "    x_train, x_test, y_train, y_test = model_selection.train_test_split(x, y, test_size = 0.2, random_state = 0 )\n",
    "    return  x_train, x_test, y_train, y_test\n",
    "\n",
    "\n",
    "filepath = \"ml_data_classification.csv\"\n",
    "title, allData = readData(filepath)\n",
    "#print(title, '\\n' ,allData)\n",
    "x_train, x_test, y_train, y_test = preData(allData)\n",
    "#print(x_train, x_test, y_train, y_test)"
   ]
  },
  {
   "cell_type": "code",
   "execution_count": 11,
   "metadata": {},
   "outputs": [
    {
     "name": "stdout",
     "output_type": "stream",
     "text": [
      "logistics : acc =  0.5709 ，recall_n =  0.5223\n"
     ]
    }
   ],
   "source": [
    "# 计算不及格的recall\n",
    "def acc_n_recall(y_test, result):\n",
    "    len_1 = len(y_test)\n",
    "    len_result = len(result)\n",
    "    count = 0\n",
    "    count_pre = 0\n",
    "    if len_1 == len_result:\n",
    "        #print(len_1, len_result)\n",
    "        for i in range(len_1):\n",
    "            if int(y_test[i]) == 0:\n",
    "                count+=1\n",
    "                if int(result[i]) == 0:\n",
    "                    count_pre+=1\n",
    "        return count_pre/count\n",
    "    return 1\n",
    "\n",
    "#logistics 对数回归\n",
    "def predict_logistics(data):\n",
    "    #print(title, '\\n' ,allData)\n",
    "    \n",
    "    x_train, x_test, y_train, y_test = preData(allData)\n",
    "    lr = LogisticRegression(penalty='l2', dual=False, tol=0.0001, C=1.0, fit_intercept=True, intercept_scaling=1, \n",
    "                            class_weight=None, random_state=None, solver='liblinear'\n",
    "                            , max_iter=100, multi_class='ovr', verbose=0, warm_start=False, n_jobs=1)\n",
    "    lr.fit(x_train,y_train)\n",
    "    y_test_list = y_test.values\n",
    "    result = lr.predict(x_test)\n",
    "    acc = lr.score(x_test, y_test)\n",
    "    # 统计反例的recall\n",
    "    recall_n = acc_n_recall(y_test_list, result)\n",
    "    return (\"%.4f\" % acc),(\"%.4f\" % recall_n)\n",
    "\n",
    "# KNN\n",
    "\n",
    "# 贝叶斯\n",
    "\n",
    "# SVM\n",
    "\n",
    "filepath = \"ml_data_classification.csv\"\n",
    "title, allData = readData(filepath)\n",
    "acc, recall_n = predict_logistics(allData)\n",
    "print('logistics : acc = ',acc,'，recall_n = ',recall_n)"
   ]
  },
  {
   "cell_type": "code",
   "execution_count": null,
   "metadata": {},
   "outputs": [],
   "source": []
  }
 ],
 "metadata": {
  "celltoolbar": "Raw Cell Format",
  "kernelspec": {
   "display_name": "Python 3",
   "language": "python",
   "name": "python3"
  },
  "language_info": {
   "codemirror_mode": {
    "name": "ipython",
    "version": 3
   },
   "file_extension": ".py",
   "mimetype": "text/x-python",
   "name": "python",
   "nbconvert_exporter": "python",
   "pygments_lexer": "ipython3",
   "version": "3.7.3"
  }
 },
 "nbformat": 4,
 "nbformat_minor": 2
}
