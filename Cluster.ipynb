{
 "cells": [
  {
   "cell_type": "code",
   "execution_count": 33,
   "metadata": {},
   "outputs": [],
   "source": [
    "import pandas as pd\n",
    "import numpy\n",
    "from sklearn.cluster import Birch\n",
    "from sklearn.cluster import KMeans\n",
    "from sklearn.preprocessing import normalize"
   ]
  },
  {
   "cell_type": "code",
   "execution_count": 34,
   "metadata": {},
   "outputs": [],
   "source": [
    "#data = pd.read_csv('ml_data_cluster.csv')\n",
    "#read data\n",
    "def readData(filepath):\n",
    "    #q_table6 = pd.read_csv(filepath ,encoding = \"utf-8\",index_col=0)\n",
    "    #print(q_table6)\n",
    "    file = open(filepath)\n",
    "    count = 1\n",
    "    title = []\n",
    "    allDta = []\n",
    "    for data in file.readlines():\n",
    "        if count == 1:\n",
    "            title = data.strip()\n",
    "            count = 0\n",
    "        else :\n",
    "            newRow = []\n",
    "            Row = data.strip().split(',')\n",
    "            #print(Row)\n",
    "            for i in range(0, len(Row)):\n",
    "                if i == 0 or i ==1 or i ==  2 or i == 7 or i == 8:\n",
    "                    continue\n",
    "                else :\n",
    "                    newRow.append(Row[i])\n",
    "            allDta.append(newRow)\n",
    "    return title, allDta\n",
    "\n",
    "\n",
    "index, data = readData('ml_data_cluster.csv')\n",
    "#print(data)\n",
    "dataFrame = pd.DataFrame(data)"
   ]
  },
  {
   "cell_type": "markdown",
   "metadata": {},
   "source": [
    "data_noe = normalize(dataFrame, norm = 'l2')\n",
    "print('dataFrame', dataFrame)\n",
    "data_Norm_DF = pd.DataFrame(data_norm)\n",
    "data_Norm_DF.to_csv('ml_data_cluster_normalization.csv')"
   ]
  },
  {
   "cell_type": "code",
   "execution_count": 35,
   "metadata": {},
   "outputs": [
    {
     "name": "stdout",
     "output_type": "stream",
     "text": [
      "data_Norm [[6.49921638e-04 1.21860307e-04 2.70800683e-04 8.12402048e-04\n",
      "  9.99999221e-01 6.22841570e-04]\n",
      " [2.02406287e-03 5.25730617e-05 1.00366754e-04 2.38968462e-04\n",
      "  9.99996986e-01 1.36450992e-03]\n",
      " [5.29515548e-04 9.45563479e-06 2.26935235e-04 5.20059913e-04\n",
      "  9.99999568e-01 5.10604279e-04]\n",
      " ...\n",
      " [1.34839972e-01 2.02259959e-01 3.37099931e-01 2.02259959e-01\n",
      "  8.76459821e-01 1.34839972e-01]\n",
      " [1.02985956e-03 3.08957869e-03 1.02985956e-03 0.00000000e+00\n",
      "  9.99993636e-01 1.02985956e-03]\n",
      " [7.29890113e-03 0.00000000e+00 0.00000000e+00 0.00000000e+00\n",
      "  9.99949455e-01 6.91474844e-03]]\n"
     ]
    }
   ],
   "source": [
    "data_Norm = normalize(dataFrame, norm = 'l2')\n",
    "print('data_Norm', data_Norm)\n",
    "data_Norm_DF = pd.DataFrame(data_Norm)\n",
    "data_Norm_DF.to_csv('kmeans_ml_data_cluster.csv', sep='，')"
   ]
  },
  {
   "cell_type": "code",
   "execution_count": 36,
   "metadata": {},
   "outputs": [
    {
     "name": "stdout",
     "output_type": "stream",
     "text": [
      "[0 0 0 ... 2 0 0]\n"
     ]
    }
   ],
   "source": [
    "clf = KMeans(n_clusters = 3, max_iter = 1000)\n",
    "y_pred = clf.fit_predict(data_Norm)\n",
    "print(y_pred)\n",
    "y_pred_DF = pd.DataFrame(y_pred)\n",
    "y_pred_DF.to_csv('cluster_results.csv', sep='\\t')"
   ]
  },
  {
   "cell_type": "code",
   "execution_count": null,
   "metadata": {},
   "outputs": [],
   "source": []
  }
 ],
 "metadata": {
  "kernelspec": {
   "display_name": "Python 3",
   "language": "python",
   "name": "python3"
  },
  "language_info": {
   "codemirror_mode": {
    "name": "ipython",
    "version": 3
   },
   "file_extension": ".py",
   "mimetype": "text/x-python",
   "name": "python",
   "nbconvert_exporter": "python",
   "pygments_lexer": "ipython3",
   "version": "3.7.3"
  }
 },
 "nbformat": 4,
 "nbformat_minor": 2
}
